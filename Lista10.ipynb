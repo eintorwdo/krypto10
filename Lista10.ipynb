{
  "nbformat": 4,
  "nbformat_minor": 0,
  "metadata": {
    "kernelspec": {
      "display_name": "Python 3",
      "language": "python",
      "name": "python3"
    },
    "language_info": {
      "codemirror_mode": {
        "name": "ipython",
        "version": 3
      },
      "file_extension": ".py",
      "mimetype": "text/x-python",
      "name": "python",
      "nbconvert_exporter": "python",
      "pygments_lexer": "ipython3",
      "version": "3.7.4"
    },
    "colab": {
      "name": "Lista10.ipynb",
      "provenance": [],
      "collapsed_sections": []
    }
  },
  "cells": [
    {
      "cell_type": "code",
      "metadata": {
        "id": "OJ-ISVh3O0BC"
      },
      "source": [
        "!pip install qiskit\r\n",
        "!pip install pylatexenc"
      ],
      "execution_count": null,
      "outputs": []
    },
    {
      "cell_type": "code",
      "metadata": {
        "id": "JQbU4GEh-s8M"
      },
      "source": [
        "from qiskit import QuantumCircuit, BasicAer, execute\n",
        "import numpy as np\n",
        "import matplotlib.pyplot as plt"
      ],
      "execution_count": null,
      "outputs": []
    },
    {
      "cell_type": "markdown",
      "metadata": {
        "id": "9rLNbDTg-s8O"
      },
      "source": [
        "# Lista 10 (9 pkt.) Termin: 9.02.2021r."
      ]
    },
    {
      "cell_type": "markdown",
      "metadata": {
        "id": "OD2igtJq-s8O"
      },
      "source": [
        "## Zadanie 1 (6 pkt.)"
      ]
    },
    {
      "cell_type": "markdown",
      "metadata": {
        "id": "kZIGNbL6-s8P"
      },
      "source": [
        "Zaimplementujemy protokół kwantowej dystrybucji klucza. Mmay Alicję i Boba, chcemy aby oboje ustalili wspólny klucz, który będzie znany tylko im i nikomu innemu. Używając kwantowego protokołu możemy zrobić to w sposób bezpieczny. Zaimplemnentujemy tu algorytm BB84. Najpierw zauważmy, ze w przestrzeni kubitu możemy wprowadzić rózne bazy. Jedną z nich może być baza wektórów własnych operatora $Z$, czyli standardowa baza, w której przebiegają obliczenia składa się ona z wektorów $\\{|0\\rangle,|1\\rangle\\}$. Inną baza jest baza wektórów własnych operatora $X$, która składa się z wektorów $\\{|+\\rangle=\\frac{1}{\\sqrt{2}}\\left(|0\\rangle+|1\\rangle\\right),|-\\rangle=\\frac{1}{\\sqrt{2}}\\left(|0\\rangle-|1\\rangle\\}\\right)$. Jeżeli naszymi kubitami są fotony to możemy przyjąć, że stan $|0\\rangle$ to foton o polaryzacji poziomej (drgajacy poziomo), stan $|1\\rangle$ to foton o polaryzacji pionowej, stan $|+\\rangle$ to foton o polaryzacji skośnej w jedną stronę a stan $|-\\rangle$ to foton o polaryzacji skośnej w drugą stronę.\n",
        "\n",
        "<img src=\"rysunek.png\" width=\"500\" align=\"center\"/>\n",
        "\n",
        "Alicja moze genrować fotony w dowolnym, ze stanów: $\\{|0\\rangle,|1\\rangle\\,|+\\rangle,|-\\rangle\\}$, np. przepuszczajac fotony przez polaryzator obrócony o odpowiedni kąt. Alicja będzie genowac stany losowo. Dla sprawdzenia poprawności ustawiamy ziarno generatora pseudolosowego, aby w każdym uruchomieniu wyniki były takie same."
      ]
    },
    {
      "cell_type": "code",
      "metadata": {
        "id": "BxdMSmyC-s8P"
      },
      "source": [
        "np.random.seed(2)"
      ],
      "execution_count": null,
      "outputs": []
    },
    {
      "cell_type": "markdown",
      "metadata": {
        "id": "9kQQbgSw-s8Q"
      },
      "source": [
        "Najpierw generuje losowy ciąg bitów o długości powiedzmy 100:"
      ]
    },
    {
      "cell_type": "code",
      "metadata": {
        "id": "mqP_rznQ-s8Q"
      },
      "source": [
        "Alice_bits=np.random.randint(0,2,100)"
      ],
      "execution_count": null,
      "outputs": []
    },
    {
      "cell_type": "code",
      "metadata": {
        "colab": {
          "base_uri": "https://localhost:8080/"
        },
        "id": "KVHG36Vd-s8Q",
        "outputId": "a0ca01d0-f866-4e3f-9b7f-c219dec4898d"
      },
      "source": [
        "Alice_bits"
      ],
      "execution_count": null,
      "outputs": [
        {
          "output_type": "execute_result",
          "data": {
            "text/plain": [
              "array([0, 1, 1, 0, 0, 1, 0, 1, 0, 1, 0, 1, 1, 1, 1, 1, 1, 1, 0, 0, 0, 0,\n",
              "       1, 1, 1, 0, 0, 0, 1, 1, 1, 0, 0, 1, 0, 0, 1, 1, 1, 0, 0, 0, 0, 1,\n",
              "       1, 1, 1, 0, 0, 0, 0, 0, 0, 0, 0, 1, 1, 1, 1, 1, 0, 0, 0, 1, 0, 1,\n",
              "       1, 1, 0, 1, 1, 0, 0, 0, 1, 1, 1, 1, 0, 0, 0, 0, 1, 0, 1, 0, 0, 0,\n",
              "       0, 0, 0, 0, 0, 0, 0, 1, 0, 1, 0, 0])"
            ]
          },
          "metadata": {
            "tags": []
          },
          "execution_count": 5
        }
      ]
    },
    {
      "cell_type": "markdown",
      "metadata": {
        "id": "gvoMQeRP-s8R"
      },
      "source": [
        "Następnie musi wygenerować losowy ciąg baz, zatem generuje znowu losowy ciąg bitów, i przyjmuje, że $0$ odpowiada bazie $Z$ a $1$ bazie $X$. Oba losowe ciągi Alicja, póki co, zachowuje wyłacznie dla siebie."
      ]
    },
    {
      "cell_type": "code",
      "metadata": {
        "id": "zjAUaX7v-s8R"
      },
      "source": [
        "#wylosuj bazy\n",
        "Alice_bases=np.random.randint(0,2,100)"
      ],
      "execution_count": null,
      "outputs": []
    },
    {
      "cell_type": "code",
      "metadata": {
        "colab": {
          "base_uri": "https://localhost:8080/"
        },
        "id": "TxFJ6AI0-s8S",
        "outputId": "ef256242-0730-474a-f4f8-ccad243a9bcc"
      },
      "source": [
        "Alice_bases"
      ],
      "execution_count": null,
      "outputs": [
        {
          "output_type": "execute_result",
          "data": {
            "text/plain": [
              "array([0, 1, 0, 0, 1, 0, 0, 1, 1, 0, 1, 1, 1, 1, 0, 0, 0, 1, 0, 1, 0, 1,\n",
              "       0, 0, 0, 1, 1, 0, 0, 1, 1, 1, 1, 1, 1, 0, 0, 0, 0, 1, 1, 1, 1, 0,\n",
              "       1, 0, 1, 1, 1, 1, 0, 1, 0, 1, 1, 0, 0, 1, 1, 0, 0, 0, 0, 1, 0, 0,\n",
              "       1, 1, 0, 0, 1, 1, 1, 1, 0, 1, 1, 1, 0, 0, 1, 1, 0, 0, 0, 1, 1, 1,\n",
              "       0, 0, 0, 1, 0, 1, 0, 1, 1, 0, 0, 1])"
            ]
          },
          "metadata": {
            "tags": []
          },
          "execution_count": 7
        }
      ]
    },
    {
      "cell_type": "markdown",
      "metadata": {
        "id": "SuzOpgzD-s8S"
      },
      "source": [
        "Ciag bitów wygląda tak: [0,1,1,...] a ciąg baz tak [0,1,0,..] oznacza to, ze pierwszy foton (nasz kubit) Alicja koduje w bazie $0$ czyli w bazie $Z$ i przypisuje mu bit $0$ czyli stan $|0\\rangle$, drugi foton koduje w bazie $1$ czyli $X$ przypisuje mu bit $1$ czyli stan $|-\\rangle$, trzeci foton w bazie $0$ czyli $Z$ przypsiuje mu bit $1$ czyli stan $|1\\rangle$, itd. Musimy zatem stworzyć obwody kwantowe generujące odpowiednie stany. W rzeczywistości byłyby to fotony  a ich stany byłyby  ustawiane za pomocą polaryzatora, my robimy to na komputerze kwantowym (a właściwie na symulatorze), zamisat fotonów mamy kubity i zmieniamy ich stan aplikując odpowiednie bramki. Napisz funkcję, która jako argumenty przyjmuje listy $bits$ i $bases$, a zwraca listę obwodów kwantowych generujących odpowiednie stany, nie dodawaj pomiaru na końcu obwodu, dodaj na końcu barrierę dla lepszej wizualizacji poszczególnych etapów, oraz dodaj jeden bit klasyczny, który bedzie potrzebny do późniejszych pomiarów."
      ]
    },
    {
      "cell_type": "code",
      "metadata": {
        "id": "P-0LuxOe-s8S"
      },
      "source": [
        "def prepare_states(bits,bases):\n",
        "    states = []\n",
        "    for i in range(len(bits)):\n",
        "      qc = QuantumCircuit(1,1)\n",
        "      if (bits[i] == 1):\n",
        "        qc.x(0)\n",
        "      if (bases[i] == 1):\n",
        "        qc.h(0)\n",
        "      qc.barrier()\n",
        "      states.append(qc)\n",
        "    return states"
      ],
      "execution_count": null,
      "outputs": []
    },
    {
      "cell_type": "markdown",
      "metadata": {
        "id": "7OtK4cJg-s8S"
      },
      "source": [
        "Alicja generuje stany:"
      ]
    },
    {
      "cell_type": "code",
      "metadata": {
        "id": "cSlSOtnM-s8T"
      },
      "source": [
        "states=prepare_states(Alice_bits,Alice_bases)"
      ],
      "execution_count": null,
      "outputs": []
    },
    {
      "cell_type": "markdown",
      "metadata": {
        "id": "yyoT_cY7-s8T"
      },
      "source": [
        "Tak powinno wyglądać trzy pierwsze stany z listy:"
      ]
    },
    {
      "cell_type": "code",
      "metadata": {
        "colab": {
          "base_uri": "https://localhost:8080/",
          "height": 140
        },
        "id": "tNL6L9tn-s8T",
        "outputId": "91a0360c-de81-4f4b-91f6-423622c1e092"
      },
      "source": [
        "states[0].draw(output='mpl')"
      ],
      "execution_count": null,
      "outputs": [
        {
          "output_type": "execute_result",
          "data": {
            "image/png": "[encoded data removed]",
            "text/plain": [
              "<Figure size 133.526x144.48 with 1 Axes>"
            ]
          },
          "metadata": {
            "tags": []
          },
          "execution_count": 10
        }
      ]
    },
    {
      "cell_type": "code",
      "metadata": {
        "colab": {
          "base_uri": "https://localhost:8080/",
          "height": 140
        },
        "id": "byCklenA-s8T",
        "outputId": "a8c32746-1305-4377-8890-8634e3ae8f78"
      },
      "source": [
        "states[1].draw(output='mpl')"
      ],
      "execution_count": null,
      "outputs": [
        {
          "output_type": "execute_result",
          "data": {
            "image/png": "[encoded data removed]",
            "text/plain": [
              "<Figure size 253.926x144.48 with 1 Axes>"
            ]
          },
          "metadata": {
            "tags": []
          },
          "execution_count": 11
        }
      ]
    },
    {
      "cell_type": "code",
      "metadata": {
        "colab": {
          "base_uri": "https://localhost:8080/",
          "height": 140
        },
        "id": "eESld98q-s8U",
        "outputId": "3852833b-7ca4-48b3-f81c-a81206bca937"
      },
      "source": [
        "states[2].draw(output='mpl')"
      ],
      "execution_count": null,
      "outputs": [
        {
          "output_type": "execute_result",
          "data": {
            "image/png": "[encoded data removed]",
            "text/plain": [
              "<Figure size 193.726x144.48 with 1 Axes>"
            ]
          },
          "metadata": {
            "tags": []
          },
          "execution_count": 12
        }
      ]
    },
    {
      "cell_type": "markdown",
      "metadata": {
        "id": "xkA6M6oc-s8U"
      },
      "source": [
        "Następnie Alicja powinna wysłać tak przygotowane fotony Bobowi, w naszym przypadku mamy do dyspozycji kubity na stałe osadzone w komputerze kwantowym zatem zakladamy, że teraz przejął je Bob i wykonuje na nich operacje. Bob na otrzymanych od Alicji kubitach dokonuje pomiaru, jednak nie wie w jakiej bazie dokonać pomiaru bo Alicja używała losowo wybranych baz. Zatem Bob losuje bazy w których będzie dokonywał pomiaru (oczywiście dostanie inny ciąg baz niż Alicja ale jak się przekonamy to nic nie szkodzi)."
      ]
    },
    {
      "cell_type": "code",
      "metadata": {
        "id": "kSC2xquZ-s8U"
      },
      "source": [
        "#wylosuj bazy Boba\n",
        "Bob_bases=np.random.randint(0,2,100)"
      ],
      "execution_count": null,
      "outputs": []
    },
    {
      "cell_type": "markdown",
      "metadata": {
        "id": "cNqdXz5l-s8U"
      },
      "source": [
        "Aby dokonać pomiaru w bazie $Z$ nie musimy nic robić, po prostu dokonujemy pomiaru na kubicie, wynik $0$ odpowiada stanowi $|0\\rangle$ a wynik $1$ stanowi $|1\\rangle$. Aby dokonać pomairu w stanie $X$ musimy najpierw obrócić odpowiednio stan za pomocą bramki Hadamarda i dopiero potem dokonać pomiaru, wtedy wynik $0$ będzie odpowiadał stanowi $|+\\rangle$ a wynik $1$ stanowi $|-\\rangle$. Napisz funkcję, która jako argumenty przyjmuje stany $states$ otrzymane przez Boba od Alicji i wylosowane przez Boba bazy $Bob\\_bases$ a zwraca bity bądące wynikami pomiarów Boba. Użyj symulatoraz pojedyńczym wykonaniem obwodu:\n",
        "\n",
        "backend = BasicAer.get_backend('qasm_simulator')\n",
        "\n",
        "execute(qc, backend, shots=1).result().get_counts()"
      ]
    },
    {
      "cell_type": "code",
      "metadata": {
        "id": "9aNFaxCR-s8V"
      },
      "source": [
        "def measure_states(states,bases):\n",
        "    bits = []\n",
        "    backend = BasicAer.get_backend('qasm_simulator')\n",
        "    for i in range(len(states)):\n",
        "      res = None\n",
        "      qc = states[i]\n",
        "      if (bases[i] == 0):\n",
        "        qc.measure([0],[0])\n",
        "        res = execute(states[i], backend, shots=1).result().get_counts()\n",
        "      else:\n",
        "        qc.h(0)\n",
        "        qc.measure([0],[0])\n",
        "        res = execute(qc, backend, shots=1).result().get_counts()\n",
        "      bits.append(int(list(res.keys())[0]))\n",
        "    return bits"
      ],
      "execution_count": null,
      "outputs": []
    },
    {
      "cell_type": "code",
      "metadata": {
        "id": "x0hifvRW-s8V"
      },
      "source": [
        "Bob_bits=measure_states(states,Bob_bases)"
      ],
      "execution_count": null,
      "outputs": []
    },
    {
      "cell_type": "markdown",
      "metadata": {
        "id": "aVidNtyJ-s8V"
      },
      "source": [
        "Tutaj wyniki bedą losowe, więc ich nie porównujemy. Zastanówmy się co się stało wyniku tych pomiarów. Zarówno Alicja jak i Bob używali losowo wybranych baz, zatem w niektórych przypadkach baza Alicji i Boba będzie taka sama a w niektórych nie. W przypadku gdy bazy są takie same Bob z pomiaru odczyta z prawdopodobieństwe równym 1 bit taki jaki zakodowała Alicja, tzn. jeżeli np. Alicja użyła bazy $X$ i zakodowała bit $0$ czyli wysłała stan $|+\\rangle$ to Bob używając bazy $X$ do pomiaru z pradopodobieństwem równym jeden otrzyma wynik $0$ odpowiadający stanowi $|+\\rangle$, jeżeli natomiast Bob użyje błędnej bazy to z prawdopodobieństwem $\\frac{1}{2}$ odczyta poprawny bit a z prawdopobieństwem $\\frac{1}{2}$ błędny. Jeżeli np. Alicja użyła bazy $X$ i zakodowała bit $0$ czyli wysłała stan $|+\\rangle$ to Bob używając bazy $Z$ do pomiaru z prawdopodobieństwem równym $\\frac{1}{2}$ otrzyma wynik $0$ odpowiadający stanowi $|+\\rangle$ i z prawdopodobieństwem równym $\\frac{1}{2}$ otrzyma wynik $1$ odpowiadający stanowi $|-\\rangle$.\n",
        "\n",
        "Następnie Alicja ujawnia bazy w których kodowały stany, czyli ujawnia ciąg $Alice\\_bases$:"
      ]
    },
    {
      "cell_type": "code",
      "metadata": {
        "colab": {
          "base_uri": "https://localhost:8080/"
        },
        "id": "nOKKM1Ez-s8V",
        "outputId": "ef2e66e2-f222-49b0-d3cf-805c3d428cf6"
      },
      "source": [
        "Alice_bases"
      ],
      "execution_count": null,
      "outputs": [
        {
          "output_type": "execute_result",
          "data": {
            "text/plain": [
              "array([0, 1, 0, 0, 1, 0, 0, 1, 1, 0, 1, 1, 1, 1, 0, 0, 0, 1, 0, 1, 0, 1,\n",
              "       0, 0, 0, 1, 1, 0, 0, 1, 1, 1, 1, 1, 1, 0, 0, 0, 0, 1, 1, 1, 1, 0,\n",
              "       1, 0, 1, 1, 1, 1, 0, 1, 0, 1, 1, 0, 0, 1, 1, 0, 0, 0, 0, 1, 0, 0,\n",
              "       1, 1, 0, 0, 1, 1, 1, 1, 0, 1, 1, 1, 0, 0, 1, 1, 0, 0, 0, 1, 1, 1,\n",
              "       0, 0, 0, 1, 0, 1, 0, 1, 1, 0, 0, 1])"
            ]
          },
          "metadata": {
            "tags": []
          },
          "execution_count": 16
        }
      ]
    },
    {
      "cell_type": "markdown",
      "metadata": {
        "id": "wO98BUc_-s8V"
      },
      "source": [
        "Alicja i Bob mogą teraz porównać swój wybór baz $Bob\\_bases$ i $Alice\\_bases$ i odrzucić ze swoich wyników te bity na których ich bazy nie są ze sobą zgodne. Napsiz funkcję, która jako argumenty przyjmuje bazy Boba i Alicji oraz bity kodowane przez Alicję $Alce\\_bits$ oraz zmierzone przez Boba $Bob\\_bits$ i zwraca dwa ciągi bitów, jeden Alicji a drugi Boba, które odpowiadają przypadkom kiedy bazy Alicji i Boba się zgadzały."
      ]
    },
    {
      "cell_type": "code",
      "metadata": {
        "id": "T8E-vlj3-s8W"
      },
      "source": [
        "def common_bits(Alice_bases,Bob_bases,Alice_bits,Bob_bits):\n",
        "    al_key = []\n",
        "    bb_key = []\n",
        "    for i in range(len(Alice_bases)):\n",
        "      if (Alice_bases[i] == Bob_bases[i]):\n",
        "        al_key.append(Alice_bits[i])\n",
        "        bb_key.append(Bob_bits[i])\n",
        "    return (al_key, bb_key)"
      ],
      "execution_count": null,
      "outputs": []
    },
    {
      "cell_type": "code",
      "metadata": {
        "id": "HURUNtPE-s8W"
      },
      "source": [
        "Alice_key, Bob_key=common_bits(Alice_bases,Bob_bases,Alice_bits,Bob_bits)"
      ],
      "execution_count": null,
      "outputs": []
    },
    {
      "cell_type": "markdown",
      "metadata": {
        "id": "wlaWxsDU-s8W"
      },
      "source": [
        "W ten sposób Alicja i Bob otrzymali pewien klucz, który powinien być wspólny dla nich obu, o ile nie było podsłuchu po drodze (o tym co wtedy za chwilę). Aby Alicja i Bob sprawdzili czy nie było podsłuchu muszą ujawnić jakiś fragment swoich kluczy i go porównać, powiedzmy 15 pierwszych bitów."
      ]
    },
    {
      "cell_type": "code",
      "metadata": {
        "colab": {
          "base_uri": "https://localhost:8080/"
        },
        "id": "6CIZSq_w-s8W",
        "outputId": "a458672c-e6f4-4c40-cfd3-01f879baaf48"
      },
      "source": [
        "print(Alice_key[:15])\r\n",
        "print(Bob_key[:15])\r\n",
        "Alice_key[:15]==Bob_key[:15]"
      ],
      "execution_count": null,
      "outputs": [
        {
          "output_type": "stream",
          "text": [
            "[0, 1, 0, 1, 1, 1, 1, 1, 0, 0, 0, 1, 1, 0, 0]\n",
            "[0, 1, 0, 1, 1, 1, 1, 1, 0, 0, 0, 1, 1, 0, 0]\n"
          ],
          "name": "stdout"
        },
        {
          "output_type": "execute_result",
          "data": {
            "text/plain": [
              "True"
            ]
          },
          "metadata": {
            "tags": []
          },
          "execution_count": 19
        }
      ]
    },
    {
      "cell_type": "markdown",
      "metadata": {
        "id": "Bb8n5_Dp-s8W"
      },
      "source": [
        "W ten sposób mają (z pewnym prawdopodobieństwem) przekonanie, że ich klucze są jednakowe i nikt inny ich nie zna. Możemy jeszcze sprawdzić, że rzeczywiście ich klucze są w całości jednakowe:"
      ]
    },
    {
      "cell_type": "code",
      "metadata": {
        "colab": {
          "base_uri": "https://localhost:8080/"
        },
        "id": "Y-nS6IzW-s8W",
        "outputId": "403b35e6-51a3-4731-a367-600329f3d48a"
      },
      "source": [
        "Alice_key==Bob_key"
      ],
      "execution_count": null,
      "outputs": [
        {
          "output_type": "execute_result",
          "data": {
            "text/plain": [
              "True"
            ]
          },
          "metadata": {
            "tags": []
          },
          "execution_count": 20
        }
      ]
    },
    {
      "cell_type": "markdown",
      "metadata": {
        "id": "titSzof0-s8X"
      },
      "source": [
        "Oczywiście w rzeczywistości Alcija i Bob tego nie robią bo musieliby ujawnić całe swoje klucze. Spójrzmy jeszcze na długość uzyskanych kluczy, powinna wynosić ok. 50. Wynika to z tego, że mieliśmy 100 fotonów a Bob miał 0.5 szansy na wylosowanie dobrej bazy."
      ]
    },
    {
      "cell_type": "code",
      "metadata": {
        "colab": {
          "base_uri": "https://localhost:8080/"
        },
        "id": "oTYdXZAh-s8X",
        "outputId": "2a3652fd-bb89-488c-b3df-2406ab8b9e19"
      },
      "source": [
        "len(Alice_key)"
      ],
      "execution_count": null,
      "outputs": [
        {
          "output_type": "execute_result",
          "data": {
            "text/plain": [
              "46"
            ]
          },
          "metadata": {
            "tags": []
          },
          "execution_count": 21
        }
      ]
    },
    {
      "cell_type": "code",
      "metadata": {
        "colab": {
          "base_uri": "https://localhost:8080/"
        },
        "id": "yyvYhpAw-s8X",
        "outputId": "2e0d9308-1b55-43f3-df3f-471710f912bf"
      },
      "source": [
        "len(Bob_key)"
      ],
      "execution_count": null,
      "outputs": [
        {
          "output_type": "execute_result",
          "data": {
            "text/plain": [
              "46"
            ]
          },
          "metadata": {
            "tags": []
          },
          "execution_count": 22
        }
      ]
    },
    {
      "cell_type": "markdown",
      "metadata": {
        "id": "BpiOTWII-s8X"
      },
      "source": [
        "W ten sposób Alicja i Bob mają wspólny ciąg bitów. Zastanówmy się teraz co z bezpieczeństwem takiego protokołu. Załóżmy, że w naszym układzie pojawia się trzecia osoba, Ewa, która chce poznać klucz uzgadniany przez Alicję i Boba. Ewa przechwytuje fotony (kubity) przesyłane przez Alicję do Boba i dokonuje na nich pomiaru, oczywiscie Ewa nie zna ciągu baz w których Alicja zakodowała bity, bo Alicja trzyma je w sekrecia tak długo aż fotony nie dotrą do Boba. Zatem Ewa musi dokonywać pomiaru w losowych bazach. Ewa otrzyma częśc wyników poprawnych a częśc nie ale jednocześnie zniszczy stany kwantowe fotonów. Jak pamiętamy z poprzedniej listy, w wyniku pomiaru stan kwantowy kolapsuje, zatem Ewa dokonjąc losowych pomiarów sprawi, że skolapsują one w losowy sposób. Ewa po dokonaniu pomiarów odsyła fotony dalej do Boba. Ten dokonuje znowu losowych pomiarów jak przedtem, ale tym razem część stanów na których dokonuje pomiaru będzie zmieniona przez pomiar dokonany przez Ewę, zatem nawet tam gdzie Bob użyje do pomiaru tej samej bazy co Alicja, będzie mógł dostać błędny wynik, z tego powodu, że stan wcześniej zmodyfikowała Ewa. Zatem aby się przekonać czy Ewa podsłuchiwała Alicja i Bob muszą ujawnić część swoich uzgodnionych bitów (powiedzmy 15) i sprawdzić czy się one zgadzają ze sobą."
      ]
    },
    {
      "cell_type": "code",
      "metadata": {
        "colab": {
          "base_uri": "https://localhost:8080/"
        },
        "id": "q4JBJQXx-s8X",
        "outputId": "11ae7c89-df1b-4efc-d320-2ce3aaff76e2"
      },
      "source": [
        "Alice_key[:15]==Bob_key[:15]"
      ],
      "execution_count": null,
      "outputs": [
        {
          "output_type": "execute_result",
          "data": {
            "text/plain": [
              "True"
            ]
          },
          "metadata": {
            "tags": []
          },
          "execution_count": 23
        }
      ]
    },
    {
      "cell_type": "markdown",
      "metadata": {
        "id": "0CI-pkhJ-s8Y"
      },
      "source": [
        "Bity się zgadzają zatem jest wysokie prawdopodobieństwo, że Ewa nie podsłuchiwała i pozostałe bity mogą posłużyć jako wspólny tajny klucz. Zobaczmy teraz co sie dzieje gdy Ewa podsłuchuje. Zacznijmy protokół od nowa, Alicja generuje stany:"
      ]
    },
    {
      "cell_type": "code",
      "metadata": {
        "id": "Fdq3NB3R-s8Y"
      },
      "source": [
        "Alice_bits=np.random.randint(0,2,100)"
      ],
      "execution_count": null,
      "outputs": []
    },
    {
      "cell_type": "code",
      "metadata": {
        "id": "IqAYP51e-s8Z"
      },
      "source": [
        "Alice_bases=np.random.randint(0,2,100)"
      ],
      "execution_count": null,
      "outputs": []
    },
    {
      "cell_type": "code",
      "metadata": {
        "id": "auPnS7hI-s8Z"
      },
      "source": [
        "states=prepare_states(Alice_bits,Alice_bases)"
      ],
      "execution_count": null,
      "outputs": []
    },
    {
      "cell_type": "markdown",
      "metadata": {
        "id": "o6LiAPGI-s8Z"
      },
      "source": [
        "Następnie przechwytuje je Ewa i póbuje odczytać informacje:"
      ]
    },
    {
      "cell_type": "code",
      "metadata": {
        "id": "RyhuIzUQ-s8Z"
      },
      "source": [
        "Eve_bases=np.random.randint(0,2,100)"
      ],
      "execution_count": null,
      "outputs": []
    },
    {
      "cell_type": "code",
      "metadata": {
        "id": "e3NYJuQh-s8Z"
      },
      "source": [
        "Eve_bits=measure_states(states,Eve_bases)"
      ],
      "execution_count": null,
      "outputs": []
    },
    {
      "cell_type": "markdown",
      "metadata": {
        "id": "lVf3TakF-s8Z"
      },
      "source": [
        "Potem odsyła je do Boba, pamiętajmy jednak, że w wyniku pomiaru Ewy częśc z nich została zmieniona. Teraz Bob dokonuje pomiaru."
      ]
    },
    {
      "cell_type": "code",
      "metadata": {
        "id": "USpu48nO-s8a"
      },
      "source": [
        "Bob_bases=np.random.randint(0,2,100)"
      ],
      "execution_count": null,
      "outputs": []
    },
    {
      "cell_type": "code",
      "metadata": {
        "id": "mhDXsJbn-s8a"
      },
      "source": [
        "Bob_bits=measure_states(states,Bob_bases)"
      ],
      "execution_count": null,
      "outputs": []
    },
    {
      "cell_type": "markdown",
      "metadata": {
        "id": "ziMZnUbw-s8a"
      },
      "source": [
        "teraz Alicja i Bob porównują swoje bazy:"
      ]
    },
    {
      "cell_type": "code",
      "metadata": {
        "id": "HkjG4EQ0-s8a"
      },
      "source": [
        "Alice_key, Bob_key=common_bits(Alice_bases,Bob_bases,Alice_bits,Bob_bits)"
      ],
      "execution_count": null,
      "outputs": []
    },
    {
      "cell_type": "markdown",
      "metadata": {
        "id": "E16X0gYF-s8a"
      },
      "source": [
        "następnie ujawniają część ze swoich bitów, jeżeli któreś się nie zgadzają to znaczy, ze Ewa podsłuchiwała."
      ]
    },
    {
      "cell_type": "code",
      "metadata": {
        "colab": {
          "base_uri": "https://localhost:8080/"
        },
        "id": "gpyEJ8Jd-s8a",
        "outputId": "de2b1ccb-c125-43ef-c7ed-51e06c1c4b51"
      },
      "source": [
        "Alice_key[:15]==Bob_key[:15]"
      ],
      "execution_count": null,
      "outputs": [
        {
          "output_type": "execute_result",
          "data": {
            "text/plain": [
              "False"
            ]
          },
          "metadata": {
            "tags": []
          },
          "execution_count": 32
        }
      ]
    },
    {
      "cell_type": "markdown",
      "metadata": {
        "id": "_bPqm3YA-s8b"
      },
      "source": [
        "w takiej sytuacji Alicja i Bob odrzucają wszystkie bity jako, że były podsłuchiwane."
      ]
    },
    {
      "cell_type": "markdown",
      "metadata": {
        "id": "xPRwgj7t-s8b"
      },
      "source": [
        "## Zadanie 2 (3 pkt.)"
      ]
    },
    {
      "cell_type": "markdown",
      "metadata": {
        "id": "LOvCm_Zq-s8b"
      },
      "source": [
        "Przeanalizuj implementacje algorytmu Shora https://qiskit.org/textbook/ch-algorithms/shor.html i powtórz ją dla różnych wartości $a$."
      ]
    },
    {
      "cell_type": "code",
      "metadata": {
        "colab": {
          "base_uri": "https://localhost:8080/"
        },
        "id": "1vIzXtyde_9x",
        "outputId": "dfbebec9-465e-4810-f1e5-3c37f222f2f3"
      },
      "source": [
        "from qiskit.visualization import plot_histogram\r\n",
        "import pandas as pd\r\n",
        "from fractions import Fraction\r\n",
        "\r\n",
        "def c_amod15(a, power):\r\n",
        "    \"\"\"Controlled multiplication by a mod 15\"\"\"\r\n",
        "    if a not in [2,7,8,11,13]:\r\n",
        "        raise ValueError(\"'a' must be 2,7,8,11 or 13\")\r\n",
        "    U = QuantumCircuit(4)        \r\n",
        "    for iteration in range(power):\r\n",
        "        if a in [2,13]:\r\n",
        "            U.swap(0,1)\r\n",
        "            U.swap(1,2)\r\n",
        "            U.swap(2,3)\r\n",
        "        if a in [7,8]:\r\n",
        "            U.swap(2,3)\r\n",
        "            U.swap(1,2)\r\n",
        "            U.swap(0,1)\r\n",
        "        if a == 11:\r\n",
        "            U.swap(1,3)\r\n",
        "            U.swap(0,2)\r\n",
        "        if a in [7,11,13]:\r\n",
        "            for q in range(4):\r\n",
        "                U.x(q)\r\n",
        "    U = U.to_gate()\r\n",
        "    U.name = \"%i^%i mod 15\" % (a, power)\r\n",
        "    c_U = U.control()\r\n",
        "    return c_U\r\n",
        "\r\n",
        "n_count = 8\r\n",
        "a = 11\r\n",
        "\r\n",
        "def qft_dagger(n):\r\n",
        "    \"\"\"n-qubit QFTdagger the first n qubits in circ\"\"\"\r\n",
        "    qc = QuantumCircuit(n)\r\n",
        "    # Don't forget the Swaps!\r\n",
        "    for qubit in range(n//2):\r\n",
        "        qc.swap(qubit, n-qubit-1)\r\n",
        "    for j in range(n):\r\n",
        "        for m in range(j):\r\n",
        "            qc.cp(-np.pi/float(2**(j-m)), m, j)\r\n",
        "        qc.h(j)\r\n",
        "    qc.name = \"QFT†\"\r\n",
        "    return qc\r\n",
        "\r\n",
        "# Create QuantumCircuit with n_count counting qubits\r\n",
        "# plus 4 qubits for U to act on\r\n",
        "qc = QuantumCircuit(n_count + 4, n_count)\r\n",
        "\r\n",
        "# Initialise counting qubits\r\n",
        "# in state |+>\r\n",
        "for q in range(n_count):\r\n",
        "    qc.h(q)\r\n",
        "    \r\n",
        "# And ancilla register in state |1>\r\n",
        "qc.x(3+n_count)\r\n",
        "\r\n",
        "# Do controlled-U operations\r\n",
        "for q in range(n_count):\r\n",
        "    qc.append(c_amod15(a, 2**q), \r\n",
        "             [q] + [i+n_count for i in range(4)])\r\n",
        "\r\n",
        "# Do inverse-QFT\r\n",
        "qc.append(qft_dagger(n_count), range(n_count))\r\n",
        "\r\n",
        "# Measure circuit\r\n",
        "qc.measure(range(n_count), range(n_count))\r\n",
        "qc.draw('text')\r\n",
        "\r\n",
        "backend = BasicAer.get_backend('qasm_simulator')\r\n",
        "results = execute(qc, backend, shots=2048).result()\r\n",
        "counts = results.get_counts()\r\n",
        "plot_histogram(counts)\r\n",
        "\r\n",
        "rows, measured_phases = [], []\r\n",
        "for output in counts:\r\n",
        "    decimal = int(output, 2)  # Convert (base 2) string to decimal\r\n",
        "    phase = decimal/(2**n_count) # Find corresponding eigenvalue\r\n",
        "    measured_phases.append(phase)\r\n",
        "    # Add these values to the rows in our table:\r\n",
        "    rows.append([\"%s(bin) = %i(dec)\" % (output, decimal), \r\n",
        "                 \"%i/%i = %.2f\" % (decimal, 2**n_count, phase)])\r\n",
        "# Print the rows in a table\r\n",
        "headers=[\"Register Output\", \"Phase\"]\r\n",
        "df = pd.DataFrame(rows, columns=headers)\r\n",
        "print(df)\r\n",
        "\r\n",
        "rows = []\r\n",
        "for phase in measured_phases:\r\n",
        "    frac = Fraction(phase).limit_denominator(15)\r\n",
        "    rows.append([phase, \"%i/%i\" % (frac.numerator, frac.denominator), frac.denominator])\r\n",
        "# Print as a table\r\n",
        "headers=[\"Phase\", \"Fraction\", \"Guess for r\"]\r\n",
        "df = pd.DataFrame(rows, columns=headers)\r\n",
        "print(df)"
      ],
      "execution_count": null,
      "outputs": [
        {
          "output_type": "stream",
          "text": [
            "            Register Output           Phase\n",
            "0    00000000(bin) = 0(dec)    0/256 = 0.00\n",
            "1  10000000(bin) = 128(dec)  128/256 = 0.50\n",
            "   Phase Fraction  Guess for r\n",
            "0    0.0      0/1            1\n",
            "1    0.5      1/2            2\n"
          ],
          "name": "stdout"
        }
      ]
    },
    {
      "cell_type": "markdown",
      "metadata": {
        "id": "22yPq1wTbmn2"
      },
      "source": [
        "A: 2![2.png](data:image/png;base64,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)"
      ]
    },
    {
      "cell_type": "markdown",
      "metadata": {
        "id": "ez4WTG2ZbtQi"
      },
      "source": [
        "A: 7![7.png](data:image/png;base64,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)"
      ]
    },
    {
      "cell_type": "markdown",
      "metadata": {
        "id": "ZTeJD9aKbxCy"
      },
      "source": [
        "A: 11![11.png](data:image/png;base64,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)"
      ]
    }
  ]
}